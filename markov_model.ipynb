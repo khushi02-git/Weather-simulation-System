{
 "cells": [
  {
   "cell_type": "code",
   "execution_count": null,
   "id": "2ac11c72-c6c9-4875-b9ba-e43b02f5145c",
   "metadata": {},
   "outputs": [
    {
     "name": "stdout",
     "output_type": "stream",
     "text": [
      "Transition Matrix:\n",
      "[[0.6 0.3 0.1]\n",
      " [0.3 0.4 0.3]\n",
      " [0.2 0.3 0.5]]\n",
      "\n",
      "Simulating 15 days of weather starting from 'Sunny':\n",
      "['Sunny', 'Sunny', 'Rainy', 'Rainy', 'Rainy', 'Sunny', 'Sunny', 'Sunny', 'Cloudy', 'Cloudy', 'Rainy', 'Sunny', 'Rainy', 'Rainy', 'Cloudy']\n",
      "\n",
      "Weather Frequency over 15 days:\n",
      "Cloudy: 3 days\n",
      "Rainy: 6 days\n",
      "Sunny: 6 days\n"
     ]
    }
   ],
   "source": [
    "import numpy as np\n",
    "import random\n",
    "states = [\"Sunny\", \"Cloudy\", \"Rainy\"]\n",
    "transition_matrix = np.array([\n",
    "    [0.6, 0.3, 0.1],  # From Sunny\n",
    "    [0.3, 0.4, 0.3],  # From Cloudy\n",
    "    [0.2, 0.3, 0.5]   # From Rainy\n",
    "])\n",
    "\n",
    "def next_weather_state(current_state):\n",
    "    \"\"\"\n",
    "    Determine the next day's weather based on the current state using the transition matrix.\n",
    "    \"\"\"\n",
    "    current_index = states.index(current_state)\n",
    "    next_state = np.random.choice(states, p=transition_matrix[current_index])\n",
    "    return next_state\n",
    "\n",
    "def simulate_markov_weather(start_state=\"Sunny\", days=10):\n",
    "    \"\"\"\n",
    "    Simulate weather transitions over a given number of days.\n",
    "    \"\"\"\n",
    "    weather_sequence = [start_state]\n",
    "    current_state = start_state\n",
    "    \n",
    "    for _ in range(days - 1):\n",
    "        next_state = next_weather_state(current_state)\n",
    "        weather_sequence.append(next_state)\n",
    "        current_state = next_state\n",
    "    \n",
    "    return weather_sequence\n",
    "    \n",
    "np.random.seed(42)\n",
    "\n",
    "print(\"Transition Matrix:\")\n",
    "print(transition_matrix)\n",
    "\n",
    "print(\"\\nSimulating 15 days of weather starting from 'Sunny':\")\n",
    "simulated_weather = simulate_markov_weather(start_state=\"Sunny\", days=15)\n",
    "print(simulated_weather)\n",
    "\n",
    "\n",
    "unique, counts = np.unique(simulated_weather, return_counts=True)\n",
    "weather_counts = dict(zip(unique, counts))\n",
    "\n",
    "print(\"\\nWeather Frequency over 15 days:\")\n",
    "for state, count in weather_counts.items():\n",
    "    print(f\"{state}: {count} days\")\n",
    "\n",
    "\n",
    "import matplotlib.pyplot as plt\n",
    "\n",
    "plt.figure(figsize=(8, 4))\n",
    "plt.plot(simulated_weather, marker='o', linestyle='--', color='blue')\n",
    "plt.title(\"Markov Chain Weather Simulation\")\n",
    "plt.xlabel(\"Day\")\n",
    "plt.ylabel(\"Weather State\")\n",
    "plt.xticks(rotation=45)\n",
    "plt.grid(True)\n",
    "plt.show()"
   ]
  },
  {
   "cell_type": "code",
   "execution_count": null,
   "id": "1a08932d-56fe-49d8-9891-12e62c88f6bf",
   "metadata": {},
   "outputs": [],
   "source": []
  }
 ],
 "metadata": {
  "kernelspec": {
   "display_name": "Python 3 (ipykernel)",
   "language": "python",
   "name": "python3"
  },
  "language_info": {
   "codemirror_mode": {
    "name": "ipython",
    "version": 3
   },
   "file_extension": ".py",
   "mimetype": "text/x-python",
   "name": "python",
   "nbconvert_exporter": "python",
   "pygments_lexer": "ipython3",
   "version": "3.11.2"
  }
 },
 "nbformat": 4,
 "nbformat_minor": 5
}
