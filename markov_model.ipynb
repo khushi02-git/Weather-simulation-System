{
 "cells": [
  {
   "cell_type": "code",
   "execution_count": 1,
   "id": "2ac11c72-c6c9-4875-b9ba-e43b02f5145c",
   "metadata": {},
   "outputs": [
    {
     "name": "stdout",
     "output_type": "stream",
     "text": [
      "Markov Weather Model Simulation\n",
      "\n",
      "Next 7 Days Weather Forecast:\n",
      "Day 1: Sunny\n",
      "Day 2: Sunny\n",
      "Day 3: Cloudy\n",
      "Day 4: Rainy\n",
      "Day 5: Cloudy\n",
      "Day 6: Rainy\n",
      "Day 7: Rainy\n"
     ]
    }
   ],
   "source": [
    "import random\n",
    "\n",
    "# Step 1: Define possible weather states\n",
    "states = [\"Sunny\", \"Cloudy\", \"Rainy\"]\n",
    "\n",
    "# Step 2: Define transition probabilities (rows must sum to 1)\n",
    "# Example: If today is Sunny → 60% Sunny, 30% Cloudy, 10% Rainy\n",
    "transition_matrix = [\n",
    "    [0.6, 0.3, 0.1],  # From Sunny\n",
    "    [0.3, 0.4, 0.3],  # From Cloudy\n",
    "    [0.2, 0.3, 0.5],  # From Rainy\n",
    "]\n",
    "\n",
    "\n",
    "def get_next_state(current_state):\n",
    "    \"\"\"\n",
    "    Returns the next day's weather based on current weather.\n",
    "    \"\"\"\n",
    "    # Find index of current weather\n",
    "    index = states.index(current_state)\n",
    "\n",
    "    # Get probability list for that weather\n",
    "    probabilities = transition_matrix[index]\n",
    "\n",
    "    # Randomly choose next weather according to probabilities\n",
    "    next_state = random.choices(states, probabilities)[0]\n",
    "\n",
    "    return next_state\n",
    "\n",
    "\n",
    "def simulate_weather(days=10, start_state=\"Sunny\"):\n",
    "    \"\"\"\n",
    "    Simulate weather for a given number of days using the Markov chain.\n",
    "\n",
    "    Args:\n",
    "        days (int): Number of days to simulate.\n",
    "        start_state (str): Starting weather condition.\n",
    "\n",
    "    Returns:\n",
    "        list: Simulated weather sequence.\n",
    "    \"\"\"\n",
    "    weather_sequence = [start_state]\n",
    "    current_state = start_state\n",
    "\n",
    "    for i in range(days - 1):\n",
    "        next_day = get_next_state(current_state)\n",
    "        weather_sequence.append(next_day)\n",
    "        current_state = next_day\n",
    "\n",
    "    return weather_sequence\n",
    "\n",
    "\n",
    "# Test the model\n",
    "if __name__ == \"__main__\":\n",
    "    print(\"Markov Weather Model Simulation\\n\")\n",
    "\n",
    "    forecast = simulate_weather(days=7, start_state=\"Sunny\")\n",
    "    print(\"Next 7 Days Weather Forecast:\")\n",
    "    for i, weather in enumerate(forecast, start=1):\n",
    "        print(f\"Day {i}: {weather}\")"
   ]
  },
  {
   "cell_type": "code",
   "execution_count": null,
   "id": "1a08932d-56fe-49d8-9891-12e62c88f6bf",
   "metadata": {},
   "outputs": [],
   "source": []
  }
 ],
 "metadata": {
  "kernelspec": {
   "display_name": "Python 3 (ipykernel)",
   "language": "python",
   "name": "python3"
  },
  "language_info": {
   "codemirror_mode": {
    "name": "ipython",
    "version": 3
   },
   "file_extension": ".py",
   "mimetype": "text/x-python",
   "name": "python",
   "nbconvert_exporter": "python",
   "pygments_lexer": "ipython3",
   "version": "3.11.2"
  }
 },
 "nbformat": 4,
 "nbformat_minor": 5
}
